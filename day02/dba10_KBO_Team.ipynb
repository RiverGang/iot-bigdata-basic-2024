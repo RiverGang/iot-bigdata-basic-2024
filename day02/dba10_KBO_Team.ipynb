{
 "cells": [
  {
   "cell_type": "code",
   "execution_count": 113,
   "metadata": {},
   "outputs": [],
   "source": [
    "from selenium import webdriver\n",
    "from selenium.webdriver.common.by import By\n",
    "from selenium.webdriver.support.ui import WebDriverWait\n",
    "from selenium.webdriver.support import expected_conditions as EC\n",
    "from selenium.webdriver.chrome.service import Service\n",
    "from selenium.webdriver.chrome.options import Options\n",
    "from bs4 import BeautifulSoup\n",
    "import pandas as pd\n",
    "import time"
   ]
  },
  {
   "cell_type": "code",
   "execution_count": 114,
   "metadata": {},
   "outputs": [],
   "source": [
    "# Selenium 웹 드라이버 설정 (크롬 드라이버 사용)\n",
    "driver = webdriver.Chrome()"
   ]
  },
  {
   "cell_type": "code",
   "execution_count": 115,
   "metadata": {},
   "outputs": [],
   "source": [
    "# 사이트 접속\n",
    "url = \"https://www.koreabaseball.com/Record/TeamRank/TeamRankDaily.aspx\"\n",
    "driver.get(url)"
   ]
  },
  {
   "cell_type": "code",
   "execution_count": 116,
   "metadata": {},
   "outputs": [],
   "source": [
    "# 데이터 저장을 위한 리스트 초기화\n",
    "all_data = []"
   ]
  },
  {
   "cell_type": "code",
   "execution_count": 117,
   "metadata": {},
   "outputs": [],
   "source": [
    "kbo_teams = [\n",
    "    \"SSG\",\n",
    "    \"LG\",\n",
    "    \"두산\",\n",
    "    \"키움\",\n",
    "    \"KIA\",\n",
    "    \"삼성\",\n",
    "    \"롯데\",\n",
    "    \"NC\",\n",
    "    \"한화\",\n",
    "    \"KT\"\n",
    "]"
   ]
  },
  {
   "cell_type": "code",
   "execution_count": 118,
   "metadata": {},
   "outputs": [],
   "source": [
    "while True:\n",
    "    team = []\n",
    "    # BeautifulSoup 사용하여 페이지 파싱\n",
    "    soup = BeautifulSoup(driver.page_source, 'html.parser')\n",
    "    search_date = driver.find_element(By.ID, \"cphContents_cphContents_cphContents_lblSearchDateTitle\").text\n",
    "\n",
    "    time.sleep(1)\n",
    "\n",
    "     # 팀 순위 테이블 추출\n",
    "    table = soup.find('table', {'class': 'tData'})\n",
    "\n",
    "    # 테이블에서 순위 데이터만 추출\n",
    "    for row in table.find('tbody').find_all('tr'):\n",
    "        rank = row.find_all('td')[0].get_text(strip=True)  # 순위[0], 승률[6] 추출\n",
    "        team_name = row.find_all('td')[1].get_text(strip=True)  # 팀 이름 컬럼 추출\n",
    "        if(team_name == kbo_teams[9]): \n",
    "            all_data.append(rank)\n",
    "\n",
    "    # 다음 날짜 이동\n",
    "    search_button = driver.find_element(By.ID, \"cphContents_cphContents_cphContents_btnPreDate\").click()\n",
    "\n",
    "    time.sleep(0.5)\n",
    "    \n",
    "    if (search_date == '2024.03.23'):\n",
    "        break"
   ]
  },
  {
   "cell_type": "code",
   "execution_count": 119,
   "metadata": {},
   "outputs": [],
   "source": [
    "all_data.reverse()\n",
    "# 드라이버 종료\n"
   ]
  },
  {
   "cell_type": "code",
   "execution_count": 120,
   "metadata": {},
   "outputs": [
    {
     "name": "stdout",
     "output_type": "stream",
     "text": [
      "    한화\n",
      "0    6\n",
      "1    4\n",
      "2    2\n",
      "3    2\n",
      "4    2\n",
      "..  ..\n",
      "120  9\n",
      "121  8\n",
      "122  7\n",
      "123  7\n",
      "124  7\n",
      "\n",
      "[125 rows x 1 columns]\n"
     ]
    }
   ],
   "source": [
    "driver.quit()\n",
    "\n",
    "# 데이터프레임으로 변환\n",
    "df = pd.DataFrame(all_data, columns=[kbo_teams[9]])\n",
    "\n",
    "# 데이터 출력\n",
    "print(df)\n",
    "\n",
    "file_name = './data/Rank_'+kbo_teams[9]+'(240820).csv'\n",
    "# 결과를 현재 폴더에 CSV로 저장\n",
    "df.to_csv(file_name, encoding='utf-8')"
   ]
  },
  {
   "cell_type": "code",
   "execution_count": null,
   "metadata": {},
   "outputs": [],
   "source": []
  }
 ],
 "metadata": {
  "kernelspec": {
   "display_name": "Python 3",
   "language": "python",
   "name": "python3"
  },
  "language_info": {
   "codemirror_mode": {
    "name": "ipython",
    "version": 3
   },
   "file_extension": ".py",
   "mimetype": "text/x-python",
   "name": "python",
   "nbconvert_exporter": "python",
   "pygments_lexer": "ipython3",
   "version": "3.11.5"
  }
 },
 "nbformat": 4,
 "nbformat_minor": 2
}
