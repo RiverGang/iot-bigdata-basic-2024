{
 "cells": [
  {
   "cell_type": "code",
   "execution_count": 1,
   "metadata": {},
   "outputs": [
    {
     "name": "stderr",
     "output_type": "stream",
     "text": [
      "C:\\Users\\user\\AppData\\Local\\Temp\\ipykernel_12016\\3567519258.py:8: DeprecationWarning: \n",
      "Pyarrow will become a required dependency of pandas in the next major release of pandas (pandas 3.0),\n",
      "(to allow more performant data types, such as the Arrow string type, and better interoperability with other libraries)\n",
      "but was not found to be installed on your system.\n",
      "If this would cause problems for you,\n",
      "please provide us feedback at https://github.com/pandas-dev/pandas/issues/54466\n",
      "        \n",
      "  import pandas as pd\n"
     ]
    }
   ],
   "source": [
    "from selenium import webdriver\n",
    "from selenium.webdriver.common.by import By\n",
    "from selenium.webdriver.support.ui import WebDriverWait\n",
    "from selenium.webdriver.support import expected_conditions as EC\n",
    "from selenium.webdriver.chrome.service import Service\n",
    "from selenium.webdriver.chrome.options import Options\n",
    "from bs4 import BeautifulSoup\n",
    "import pandas as pd\n",
    "import time"
   ]
  },
  {
   "cell_type": "code",
   "execution_count": 2,
   "metadata": {},
   "outputs": [],
   "source": [
    "# Selenium 웹 드라이버 설정 (크롬 드라이버 사용)\n",
    "driver = webdriver.Chrome()"
   ]
  },
  {
   "cell_type": "code",
   "execution_count": 3,
   "metadata": {},
   "outputs": [],
   "source": [
    "# 사이트 접속\n",
    "url = \"https://www.koreabaseball.com/Record/TeamRank/TeamRankDaily.aspx\"\n",
    "driver.get(url)"
   ]
  },
  {
   "cell_type": "code",
   "execution_count": 6,
   "metadata": {},
   "outputs": [],
   "source": [
    "# 데이터 저장을 위한 리스트 초기화\n",
    "kbo_teams = [\n",
    "    \"SSG\",\n",
    "    \"LG\",\n",
    "    \"두산\",\n",
    "    \"키움\",\n",
    "    \"KIA\",\n",
    "    \"삼성\",\n",
    "    \"롯데\",\n",
    "    \"NC\",\n",
    "    \"한화\",\n",
    "    \"KT\"\n",
    "]"
   ]
  },
  {
   "cell_type": "code",
   "execution_count": 7,
   "metadata": {},
   "outputs": [
    {
     "ename": "AttributeError",
     "evalue": "ResultSet object has no attribute 'get_text'. You're probably treating a list of elements like a single element. Did you call find_all() when you meant to call find()?",
     "output_type": "error",
     "traceback": [
      "\u001b[1;31m---------------------------------------------------------------------------\u001b[0m",
      "\u001b[1;31mAttributeError\u001b[0m                            Traceback (most recent call last)",
      "Cell \u001b[1;32mIn[7], line 20\u001b[0m\n\u001b[0;32m     18\u001b[0m \u001b[38;5;66;03m# 테이블에서 순위 데이터만 추출\u001b[39;00m\n\u001b[0;32m     19\u001b[0m \u001b[38;5;28;01mfor\u001b[39;00m row \u001b[38;5;129;01min\u001b[39;00m table\u001b[38;5;241m.\u001b[39mfind(\u001b[38;5;124m'\u001b[39m\u001b[38;5;124mtbody\u001b[39m\u001b[38;5;124m'\u001b[39m)\u001b[38;5;241m.\u001b[39mfind_all(\u001b[38;5;124m'\u001b[39m\u001b[38;5;124mtr\u001b[39m\u001b[38;5;124m'\u001b[39m):\n\u001b[1;32m---> 20\u001b[0m     rank \u001b[38;5;241m=\u001b[39m \u001b[43mrow\u001b[49m\u001b[38;5;241;43m.\u001b[39;49m\u001b[43mfind_all\u001b[49m\u001b[43m(\u001b[49m\u001b[38;5;124;43m'\u001b[39;49m\u001b[38;5;124;43mtd\u001b[39;49m\u001b[38;5;124;43m'\u001b[39;49m\u001b[43m)\u001b[49m\u001b[38;5;241;43m.\u001b[39;49m\u001b[43mget_text\u001b[49m(strip\u001b[38;5;241m=\u001b[39m\u001b[38;5;28;01mTrue\u001b[39;00m)  \u001b[38;5;66;03m# 순위만 추출\u001b[39;00m\n\u001b[0;32m     21\u001b[0m     team_name \u001b[38;5;241m=\u001b[39m row\u001b[38;5;241m.\u001b[39mfind_all(\u001b[38;5;124m'\u001b[39m\u001b[38;5;124mtd\u001b[39m\u001b[38;5;124m'\u001b[39m)[\u001b[38;5;241m1\u001b[39m]\u001b[38;5;241m.\u001b[39mget_text(strip\u001b[38;5;241m=\u001b[39m\u001b[38;5;28;01mTrue\u001b[39;00m)  \u001b[38;5;66;03m# 팀 이름 컬럼 추출\u001b[39;00m\n\u001b[0;32m     22\u001b[0m     \u001b[38;5;28;01mif\u001b[39;00m(team_name \u001b[38;5;241m==\u001b[39m kbo_team \u001b[38;5;129;01mand\u001b[39;00m team_name \u001b[38;5;241m==\u001b[39m \u001b[38;5;124m\"\u001b[39m\u001b[38;5;124mSSG\u001b[39m\u001b[38;5;124m\"\u001b[39m):  \u001b[38;5;66;03m# kbo_teams의 첫 팀만 날짜를 포함하고 나머지는 순위만 들어감\u001b[39;00m\n",
      "File \u001b[1;32mc:\\DEV\\Langs\\Python311\\Lib\\site-packages\\bs4\\element.py:2433\u001b[0m, in \u001b[0;36mResultSet.__getattr__\u001b[1;34m(self, key)\u001b[0m\n\u001b[0;32m   2431\u001b[0m \u001b[38;5;28;01mdef\u001b[39;00m \u001b[38;5;21m__getattr__\u001b[39m(\u001b[38;5;28mself\u001b[39m, key):\n\u001b[0;32m   2432\u001b[0m \u001b[38;5;250m    \u001b[39m\u001b[38;5;124;03m\"\"\"Raise a helpful exception to explain a common code fix.\"\"\"\u001b[39;00m\n\u001b[1;32m-> 2433\u001b[0m     \u001b[38;5;28;01mraise\u001b[39;00m \u001b[38;5;167;01mAttributeError\u001b[39;00m(\n\u001b[0;32m   2434\u001b[0m         \u001b[38;5;124m\"\u001b[39m\u001b[38;5;124mResultSet object has no attribute \u001b[39m\u001b[38;5;124m'\u001b[39m\u001b[38;5;132;01m%s\u001b[39;00m\u001b[38;5;124m'\u001b[39m\u001b[38;5;124m. You\u001b[39m\u001b[38;5;124m'\u001b[39m\u001b[38;5;124mre probably treating a list of elements like a single element. Did you call find_all() when you meant to call find()?\u001b[39m\u001b[38;5;124m\"\u001b[39m \u001b[38;5;241m%\u001b[39m key\n\u001b[0;32m   2435\u001b[0m     )\n",
      "\u001b[1;31mAttributeError\u001b[0m: ResultSet object has no attribute 'get_text'. You're probably treating a list of elements like a single element. Did you call find_all() when you meant to call find()?"
     ]
    }
   ],
   "source": [
    "# Selenium 웹 드라이버 설정 (크롬 드라이버 사용)\n",
    "driver = webdriver.Chrome()\n",
    "\n",
    "kbo_teams = [\n",
    "    \"SSG\",\n",
    "    \"LG\",\n",
    "    \"두산\",\n",
    "    \"키움\",\n",
    "    \"KIA\",\n",
    "    \"삼성\",\n",
    "    \"롯데\",\n",
    "    \"NC\",\n",
    "    \"한화\",\n",
    "    \"KT\"\n",
    "]\n",
    "\n",
    "for kbo_team in kbo_teams:\n",
    "    url = \"https://www.koreabaseball.com/Record/TeamRank/TeamRankDaily.aspx\"\n",
    "    driver.get(url)\n",
    "    # 데이터 저장을 위한 리스트 초기화\n",
    "    all_data = []\n",
    "    # BeautifulSoup 사용하여 페이지 파싱\n",
    "    soup = BeautifulSoup(driver.page_source, 'html.parser')\n",
    "    search_date = driver.find_element(By.ID, \"cphContents_cphContents_cphContents_lblSearchDateTitle\").text\n",
    "\n",
    "    time.sleep(1)\n",
    "\n",
    "     # 팀 순위 테이블 추출\n",
    "    table = soup.find('table', {'class': 'tData'})\n",
    "\n",
    "    # 테이블에서 순위 데이터만 추출\n",
    "    for row in table.find('tbody').find_all('tr'):\n",
    "        rank = row.find_all('td').get_text(strip=True)  # 순위만 추출\n",
    "        team_name = row.find_all('td')[1].get_text(strip=True)  # 팀 이름 컬럼 추출\n",
    "        if(team_name == kbo_team and team_name == \"SSG\"):  # kbo_teams의 첫 팀만 날짜를 포함하고 나머지는 순위만 들어감\n",
    "            all_data.append([search_date, rank])\n",
    "        else:\n",
    "            all_data.append(rank)\n",
    "\n",
    "    # 다음 날짜 이동\n",
    "    search_button = driver.find_element(By.ID, \"cphContents_cphContents_cphContents_btnPreDate\").click()\n",
    "\n",
    "    time.sleep(0.5)\n",
    "    \n",
    "    if (search_date == '2024.03.23'):\n",
    "        break\n",
    "    all_data.reverse() # 날짜 정렬\n",
    "\n",
    "        # 데이터프레임으로 변환\n",
    "    df = pd.DataFrame(all_data, columns=[\"Date\", kbo_team])\n",
    "\n",
    "    # 데이터 출력\n",
    "    print(df)\n",
    "    file_name = './data/Rank_'+team_name+'(240821).csv'\n",
    "    # 결과를 현재 폴더에 CSV로 저장\n",
    "    df.to_csv(file_name, encoding='utf-8')\n",
    "    # 드라이버 종료\n",
    "    driver.quit()"
   ]
  },
  {
   "cell_type": "code",
   "execution_count": null,
   "metadata": {},
   "outputs": [],
   "source": []
  }
 ],
 "metadata": {
  "kernelspec": {
   "display_name": "Python 3",
   "language": "python",
   "name": "python3"
  },
  "language_info": {
   "codemirror_mode": {
    "name": "ipython",
    "version": 3
   },
   "file_extension": ".py",
   "mimetype": "text/x-python",
   "name": "python",
   "nbconvert_exporter": "python",
   "pygments_lexer": "ipython3",
   "version": "3.11.5"
  }
 },
 "nbformat": 4,
 "nbformat_minor": 2
}
