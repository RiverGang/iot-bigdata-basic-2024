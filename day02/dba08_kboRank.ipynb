{
 "cells": [
  {
   "cell_type": "code",
   "execution_count": 8,
   "metadata": {},
   "outputs": [],
   "source": [
    "# 필요 라이브러리 사용\n",
    "from selenium import webdriver\n",
    "from selenium.webdriver.common.by import By\n",
    "from bs4 import BeautifulSoup"
   ]
  },
  {
   "cell_type": "code",
   "execution_count": 9,
   "metadata": {},
   "outputs": [
    {
     "name": "stderr",
     "output_type": "stream",
     "text": [
      "C:\\Users\\user\\AppData\\Local\\Temp\\ipykernel_3868\\1646539710.py:2: DeprecationWarning: \n",
      "Pyarrow will become a required dependency of pandas in the next major release of pandas (pandas 3.0),\n",
      "(to allow more performant data types, such as the Arrow string type, and better interoperability with other libraries)\n",
      "but was not found to be installed on your system.\n",
      "If this would cause problems for you,\n",
      "please provide us feedback at https://github.com/pandas-dev/pandas/issues/54466\n",
      "        \n",
      "  import pandas as pd\n"
     ]
    }
   ],
   "source": [
    "# 분석, 시각화 라이브러리 사용\n",
    "import pandas as pd\n",
    "import numpy as np\n",
    "import matplotlib.pyplot as plt\n",
    "from matplotlib import rcParams, rc, font_manager\n",
    "import warnings\n",
    "import seaborn as sns\n",
    "import time\n",
    "from tqdm import tqdm # 반복 진행 프로그레스바 모듈"
   ]
  },
  {
   "cell_type": "code",
   "execution_count": 10,
   "metadata": {},
   "outputs": [],
   "source": [
    "# 웹드라이버\n",
    "driver = webdriver.Chrome()"
   ]
  },
  {
   "cell_type": "code",
   "execution_count": 11,
   "metadata": {},
   "outputs": [],
   "source": [
    "url = 'https://www.koreabaseball.com/Record/TeamRank/TeamRankDaily.aspx'\n",
    "driver.get(url)"
   ]
  },
  {
   "cell_type": "code",
   "execution_count": 12,
   "metadata": {},
   "outputs": [
    {
     "data": {
      "text/plain": [
       "'(2024년 08월18일 기준)'"
      ]
     },
     "execution_count": 12,
     "metadata": {},
     "output_type": "execute_result"
    }
   ],
   "source": [
    "# link_path = 'div.compare mb25 > span.exp2' ## header 태그의 class 명 = loca_search\n",
    "val = driver.find_element(By.CLASS_NAME, 'exp2')\n",
    "val.text"
   ]
  },
  {
   "cell_type": "code",
   "execution_count": 13,
   "metadata": {},
   "outputs": [
    {
     "data": {
      "text/plain": [
       "'순위 팀명 경기 승 패 무 승률 게임차 최근10경기 연속 홈 방문\\n1 KIA 116 68 46 2 0.596 0 6승0무4패 4승 28-1-26 40-1-20\\n2 삼성 117 63 52 2 0.548 5.5 7승0무3패 3승 33-0-26 30-2-26\\n3 LG 114 60 52 2 0.536 7 6승0무4패 3패 30-1-24 30-1-28\\n4 두산 119 61 56 2 0.521 8.5 6승0무4패 1패 33-1-26 28-1-30\\n5 SSG 115 56 58 1 0.491 12 4승0무6패 3패 28-1-29 28-0-29\\n6 KT 116 55 59 2 0.482 13 4승0무6패 1승 25-1-29 30-1-30\\n7 한화 113 52 59 2 0.468 14.5 6승0무4패 3승 26-2-32 26-0-27\\n8 롯데 110 50 57 3 0.467 14.5 7승0무3패 1승 30-2-22 20-1-35\\n9 NC 112 49 61 2 0.445 17 0승0무10패 10패 27-0-27 22-2-34\\n10 키움 114 50 64 0 0.439 18 5승0무5패 1패 28-0-35 22-0-29'"
      ]
     },
     "execution_count": 13,
     "metadata": {},
     "output_type": "execute_result"
    }
   ],
   "source": [
    "val2  = driver.find_element(By.CLASS_NAME, 'tData')\n",
    "val2.text"
   ]
  },
  {
   "cell_type": "code",
   "execution_count": 14,
   "metadata": {},
   "outputs": [],
   "source": [
    "html = driver.page_source"
   ]
  },
  {
   "cell_type": "code",
   "execution_count": 15,
   "metadata": {},
   "outputs": [],
   "source": [
    "soup = BeautifulSoup(html,'html.parser')"
   ]
  },
  {
   "cell_type": "code",
   "execution_count": 16,
   "metadata": {},
   "outputs": [
    {
     "data": {
      "text/plain": [
       "0"
      ]
     },
     "execution_count": 16,
     "metadata": {},
     "output_type": "execute_result"
    }
   ],
   "source": [
    "quickResultLst = soup.select('tData')\n",
    "len(quickResultLst) "
   ]
  },
  {
   "cell_type": "code",
   "execution_count": null,
   "metadata": {},
   "outputs": [],
   "source": []
  },
  {
   "cell_type": "code",
   "execution_count": null,
   "metadata": {},
   "outputs": [],
   "source": []
  }
 ],
 "metadata": {
  "kernelspec": {
   "display_name": "Python 3",
   "language": "python",
   "name": "python3"
  },
  "language_info": {
   "codemirror_mode": {
    "name": "ipython",
    "version": 3
   },
   "file_extension": ".py",
   "mimetype": "text/x-python",
   "name": "python",
   "nbconvert_exporter": "python",
   "pygments_lexer": "ipython3",
   "version": "3.11.5"
  }
 },
 "nbformat": 4,
 "nbformat_minor": 2
}
